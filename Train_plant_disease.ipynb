{
 "cells": [
  {
   "cell_type": "code",
   "execution_count": 127,
   "id": "b55ebfab-5ab7-439f-8a35-5ba39dd83d90",
   "metadata": {},
   "outputs": [],
   "source": [
    "## Importing Libraries\n",
    "import tensorflow as tf\n",
    "import pandas as pd\n",
    "import matplotlib.pyplot as plt\n",
    "import seaborn as sns\n"
   ]
  },
  {
   "cell_type": "code",
   "execution_count": 128,
   "id": "ae98182f-8cac-432a-a628-807c84883c07",
   "metadata": {},
   "outputs": [
    {
     "name": "stdout",
     "output_type": "stream",
     "text": [
      "Found 7558 files belonging to 38 classes.\n"
     ]
    }
   ],
   "source": [
    "##Validation Preprocessing\n",
    "validation_set = tf.keras.utils.image_dataset_from_directory(\n",
    "    'valid',\n",
    "    labels=\"inferred\",\n",
    "    label_mode=\"categorical\",\n",
    "    class_names=None,\n",
    "    color_mode=\"rgb\",\n",
    "    batch_size=32,\n",
    "    image_size=(128, 128),\n",
    "    shuffle=True,\n",
    "    seed=None,\n",
    "    validation_split=None,\n",
    "    subset=None,\n",
    "    interpolation=\"bilinear\",\n",
    "    follow_links=False,\n",
    "    crop_to_aspect_ratio=False,\n",
    "\n",
    ")"
   ]
  },
  {
   "cell_type": "code",
   "execution_count": 106,
   "id": "bbf6db14-fd08-4796-ad13-89d88e27eeb3",
   "metadata": {},
   "outputs": [
    {
     "name": "stdout",
     "output_type": "stream",
     "text": [
      "Found 30470 files belonging to 38 classes.\n"
     ]
    }
   ],
   "source": [
    "##Training Image Preprocessing\n",
    "training_set = tf.keras.utils.image_dataset_from_directory(\n",
    "    'train',\n",
    "    labels=\"inferred\",\n",
    "    label_mode=\"categorical\",\n",
    "    class_names=None,\n",
    "    color_mode=\"rgb\",\n",
    "    batch_size=32,\n",
    "    image_size=(128, 128),\n",
    "    shuffle=True,\n",
    "    seed=None,\n",
    "    validation_split=None,\n",
    "    subset=None,\n",
    "    interpolation=\"bilinear\",\n",
    "    follow_links=False,\n",
    "    crop_to_aspect_ratio=False,\n",
    "\n",
    ")"
   ]
  },
  {
   "cell_type": "code",
   "execution_count": 107,
   "id": "38963b7e-c107-41b6-89cf-1a6f02ac3f80",
   "metadata": {},
   "outputs": [
    {
     "data": {
      "text/plain": [
       "<_PrefetchDataset element_spec=(TensorSpec(shape=(None, 128, 128, 3), dtype=tf.float32, name=None), TensorSpec(shape=(None, 38), dtype=tf.float32, name=None))>"
      ]
     },
     "execution_count": 107,
     "metadata": {},
     "output_type": "execute_result"
    }
   ],
   "source": [
    "training_set"
   ]
  },
  {
   "cell_type": "code",
   "execution_count": 108,
   "id": "71046b7c-da62-4cbd-951e-268df4556a37",
   "metadata": {},
   "outputs": [
    {
     "data": {
      "text/plain": [
       "<_PrefetchDataset element_spec=(TensorSpec(shape=(None, 128, 128, 3), dtype=tf.float32, name=None), TensorSpec(shape=(None, 38), dtype=tf.float32, name=None))>"
      ]
     },
     "execution_count": 108,
     "metadata": {},
     "output_type": "execute_result"
    }
   ],
   "source": [
    "validation_set"
   ]
  },
  {
   "cell_type": "code",
   "execution_count": 109,
   "id": "f61c6a70-0195-4aa2-be42-3211b307eeda",
   "metadata": {},
   "outputs": [
    {
     "name": "stdout",
     "output_type": "stream",
     "text": [
      "tf.Tensor(\n",
      "[[[[134.   132.   135.  ]\n",
      "   [130.   128.   131.  ]\n",
      "   [128.25 126.25 129.25]\n",
      "   ...\n",
      "   [117.75 115.75 118.75]\n",
      "   [115.   113.   116.  ]\n",
      "   [129.   127.   130.  ]]\n",
      "\n",
      "  [[123.75 121.75 124.75]\n",
      "   [133.25 131.25 134.25]\n",
      "   [134.75 132.75 135.75]\n",
      "   ...\n",
      "   [123.   121.   124.  ]\n",
      "   [105.5  103.5  106.5 ]\n",
      "   [107.   105.   108.  ]]\n",
      "\n",
      "  [[130.25 128.25 131.25]\n",
      "   [131.75 129.75 132.75]\n",
      "   [133.25 131.25 134.25]\n",
      "   ...\n",
      "   [133.5  131.5  134.5 ]\n",
      "   [107.25 105.25 108.25]\n",
      "   [116.75 114.75 117.75]]\n",
      "\n",
      "  ...\n",
      "\n",
      "  [[ 59.5   59.5   61.5 ]\n",
      "   [ 62.75  62.75  64.75]\n",
      "   [ 65.5   65.5   67.5 ]\n",
      "   ...\n",
      "   [ 91.75  89.75  92.75]\n",
      "   [ 87.75  85.75  88.75]\n",
      "   [ 90.25  88.25  91.25]]\n",
      "\n",
      "  [[ 60.75  60.75  62.75]\n",
      "   [ 60.75  60.75  62.75]\n",
      "   [ 60.    60.    62.  ]\n",
      "   ...\n",
      "   [ 88.25  86.25  89.25]\n",
      "   [ 85.5   83.5   86.5 ]\n",
      "   [ 88.    86.    89.  ]]\n",
      "\n",
      "  [[ 63.    63.    65.  ]\n",
      "   [ 67.    67.    69.  ]\n",
      "   [ 60.25  60.25  62.25]\n",
      "   ...\n",
      "   [ 91.5   89.5   92.5 ]\n",
      "   [ 87.25  85.25  88.25]\n",
      "   [ 89.5   87.5   90.5 ]]]\n",
      "\n",
      "\n",
      " [[[108.25 103.25  97.25]\n",
      "   [108.   103.    97.  ]\n",
      "   [119.5  114.5  108.5 ]\n",
      "   ...\n",
      "   [127.5  122.5  118.5 ]\n",
      "   [113.75 108.75 104.75]\n",
      "   [118.75 113.75 109.75]]\n",
      "\n",
      "  [[115.5  110.5  104.5 ]\n",
      "   [ 98.5   93.5   87.5 ]\n",
      "   [108.25 103.25  97.25]\n",
      "   ...\n",
      "   [108.5  103.5   99.5 ]\n",
      "   [123.   118.   114.  ]\n",
      "   [119.5  114.5  110.5 ]]\n",
      "\n",
      "  [[103.    98.    92.  ]\n",
      "   [113.25 108.25 102.25]\n",
      "   [109.25 104.25  98.25]\n",
      "   ...\n",
      "   [122.5  117.5  113.5 ]\n",
      "   [124.25 119.25 115.25]\n",
      "   [108.5  103.5   99.5 ]]\n",
      "\n",
      "  ...\n",
      "\n",
      "  [[189.5  188.5  184.5 ]\n",
      "   [195.75 194.75 190.75]\n",
      "   [193.5  192.5  188.5 ]\n",
      "   ...\n",
      "   [209.   209.   211.  ]\n",
      "   [205.25 205.25 207.25]\n",
      "   [210.5  210.5  212.5 ]]\n",
      "\n",
      "  [[194.25 193.25 189.25]\n",
      "   [198.25 197.25 193.25]\n",
      "   [199.   198.   194.  ]\n",
      "   ...\n",
      "   [206.   206.   208.  ]\n",
      "   [214.75 214.75 216.75]\n",
      "   [216.75 216.75 218.75]]\n",
      "\n",
      "  [[199.5  198.5  194.5 ]\n",
      "   [201.   200.   196.  ]\n",
      "   [202.   201.   197.  ]\n",
      "   ...\n",
      "   [210.5  210.5  212.5 ]\n",
      "   [210.   210.   212.  ]\n",
      "   [217.25 217.25 219.25]]]\n",
      "\n",
      "\n",
      " [[[157.75 142.75 149.75]\n",
      "   [161.   146.   153.  ]\n",
      "   [149.75 134.75 141.75]\n",
      "   ...\n",
      "   [146.75 130.75 140.75]\n",
      "   [147.5  131.5  141.5 ]\n",
      "   [141.5  125.5  135.5 ]]\n",
      "\n",
      "  [[163.   148.   155.  ]\n",
      "   [163.75 148.75 155.75]\n",
      "   [163.   148.   155.  ]\n",
      "   ...\n",
      "   [150.   134.   144.  ]\n",
      "   [151.   135.   145.  ]\n",
      "   [146.25 130.25 140.25]]\n",
      "\n",
      "  [[158.   143.   150.  ]\n",
      "   [163.5  148.5  155.5 ]\n",
      "   [168.5  153.5  160.5 ]\n",
      "   ...\n",
      "   [147.5  131.5  141.5 ]\n",
      "   [146.5  130.5  140.5 ]\n",
      "   [146.   130.   140.  ]]\n",
      "\n",
      "  ...\n",
      "\n",
      "  [[162.   149.   158.  ]\n",
      "   [185.25 172.25 181.25]\n",
      "   [177.75 164.75 173.75]\n",
      "   ...\n",
      "   [170.75 157.75 167.75]\n",
      "   [169.25 156.25 166.25]\n",
      "   [172.5  159.5  169.5 ]]\n",
      "\n",
      "  [[164.5  151.5  160.5 ]\n",
      "   [172.75 159.75 168.75]\n",
      "   [169.   156.   165.  ]\n",
      "   ...\n",
      "   [170.   157.   167.  ]\n",
      "   [168.5  155.5  165.5 ]\n",
      "   [169.75 156.75 166.75]]\n",
      "\n",
      "  [[188.   175.   184.  ]\n",
      "   [165.   152.   161.  ]\n",
      "   [175.5  162.5  171.5 ]\n",
      "   ...\n",
      "   [171.75 158.75 168.75]\n",
      "   [170.   157.   167.  ]\n",
      "   [170.25 157.25 167.25]]]\n",
      "\n",
      "\n",
      " ...\n",
      "\n",
      "\n",
      " [[[175.75 164.75 158.75]\n",
      "   [181.5  170.5  164.5 ]\n",
      "   [180.25 169.25 163.25]\n",
      "   ...\n",
      "   [200.75 191.75 186.75]\n",
      "   [200.75 191.75 186.75]\n",
      "   [199.75 190.75 185.75]]\n",
      "\n",
      "  [[176.5  165.5  159.5 ]\n",
      "   [182.25 171.25 165.25]\n",
      "   [186.75 175.75 169.75]\n",
      "   ...\n",
      "   [203.25 194.25 189.25]\n",
      "   [204.5  195.5  190.5 ]\n",
      "   [204.25 195.25 190.25]]\n",
      "\n",
      "  [[172.   161.   155.  ]\n",
      "   [173.5  162.5  156.5 ]\n",
      "   [180.   169.   163.  ]\n",
      "   ...\n",
      "   [202.   193.   188.  ]\n",
      "   [202.   193.   188.  ]\n",
      "   [201.25 192.25 187.25]]\n",
      "\n",
      "  ...\n",
      "\n",
      "  [[189.25 179.25 177.25]\n",
      "   [163.5  153.5  151.5 ]\n",
      "   [175.   165.   163.  ]\n",
      "   ...\n",
      "   [202.5  194.5  191.5 ]\n",
      "   [204.25 196.25 193.25]\n",
      "   [204.75 196.75 193.75]]\n",
      "\n",
      "  [[174.5  164.5  162.5 ]\n",
      "   [175.5  165.5  163.5 ]\n",
      "   [180.75 170.75 168.75]\n",
      "   ...\n",
      "   [201.   193.   190.  ]\n",
      "   [200.75 192.75 189.75]\n",
      "   [200.   192.   189.  ]]\n",
      "\n",
      "  [[181.5  171.5  169.5 ]\n",
      "   [176.5  166.5  164.5 ]\n",
      "   [191.5  181.5  179.5 ]\n",
      "   ...\n",
      "   [203.25 195.25 192.25]\n",
      "   [206.5  198.5  195.5 ]\n",
      "   [205.   197.   194.  ]]]\n",
      "\n",
      "\n",
      " [[[  0.     0.     0.  ]\n",
      "   [  0.     0.     0.  ]\n",
      "   [  0.     0.     0.  ]\n",
      "   ...\n",
      "   [  0.     0.     0.  ]\n",
      "   [  0.     0.     0.  ]\n",
      "   [  0.     0.     0.  ]]\n",
      "\n",
      "  [[  0.     0.     0.  ]\n",
      "   [  0.     0.     0.  ]\n",
      "   [  0.     0.     0.  ]\n",
      "   ...\n",
      "   [  0.     0.     0.  ]\n",
      "   [  0.     0.     0.  ]\n",
      "   [  0.     0.     0.  ]]\n",
      "\n",
      "  [[  0.     0.     0.  ]\n",
      "   [  0.     0.     0.  ]\n",
      "   [  0.     0.     0.  ]\n",
      "   ...\n",
      "   [  0.     0.     0.  ]\n",
      "   [  0.     0.     0.  ]\n",
      "   [  0.     0.     0.  ]]\n",
      "\n",
      "  ...\n",
      "\n",
      "  [[  1.     0.     0.  ]\n",
      "   [  0.25   0.     2.  ]\n",
      "   [  0.     0.     2.  ]\n",
      "   ...\n",
      "   [ 63.75  68.25  31.  ]\n",
      "   [ 63.    69.5   31.25]\n",
      "   [ 62.75  71.    32.  ]]\n",
      "\n",
      "  [[  2.5    0.     0.  ]\n",
      "   [  0.5    0.     2.  ]\n",
      "   [  0.     0.     4.  ]\n",
      "   ...\n",
      "   [ 60.75  62.25  25.75]\n",
      "   [ 55.25  58.75  21.5 ]\n",
      "   [ 52.    57.    19.25]]\n",
      "\n",
      "  [[  3.     0.     0.  ]\n",
      "   [  0.5    0.     2.  ]\n",
      "   [  0.     0.     4.  ]\n",
      "   ...\n",
      "   [ 65.25  61.75  26.75]\n",
      "   [ 72.    67.    32.5 ]\n",
      "   [ 60.    55.25  20.75]]]\n",
      "\n",
      "\n",
      " [[[133.5  131.5  136.5 ]\n",
      "   [130.25 128.25 133.25]\n",
      "   [138.75 136.75 141.75]\n",
      "   ...\n",
      "   [101.75 101.75 103.75]\n",
      "   [108.   108.   110.  ]\n",
      "   [103.75 103.75 105.75]]\n",
      "\n",
      "  [[129.   127.   132.  ]\n",
      "   [124.75 122.75 127.75]\n",
      "   [130.25 128.25 133.25]\n",
      "   ...\n",
      "   [122.25 122.25 124.25]\n",
      "   [113.25 113.25 115.25]\n",
      "   [109.25 109.25 111.25]]\n",
      "\n",
      "  [[129.5  127.5  132.5 ]\n",
      "   [133.5  131.5  136.5 ]\n",
      "   [135.25 133.25 138.25]\n",
      "   ...\n",
      "   [116.5  116.5  118.5 ]\n",
      "   [108.5  108.5  110.5 ]\n",
      "   [110.5  110.5  112.5 ]]\n",
      "\n",
      "  ...\n",
      "\n",
      "  [[148.5  152.5  155.5 ]\n",
      "   [152.5  156.5  159.5 ]\n",
      "   [156.75 160.75 163.75]\n",
      "   ...\n",
      "   [125.   123.   124.  ]\n",
      "   [116.   114.   115.  ]\n",
      "   [121.25 119.25 120.25]]\n",
      "\n",
      "  [[151.5  155.5  158.5 ]\n",
      "   [152.5  156.5  159.5 ]\n",
      "   [152.75 156.75 159.75]\n",
      "   ...\n",
      "   [121.75 119.75 120.75]\n",
      "   [114.25 112.25 113.25]\n",
      "   [119.75 117.75 118.75]]\n",
      "\n",
      "  [[151.75 155.75 158.75]\n",
      "   [151.   155.   158.  ]\n",
      "   [153.5  157.5  160.5 ]\n",
      "   ...\n",
      "   [119.   117.   118.  ]\n",
      "   [123.75 121.75 122.75]\n",
      "   [122.   120.   121.  ]]]], shape=(32, 128, 128, 3), dtype=float32) (32, 128, 128, 3)\n",
      "tf.Tensor(\n",
      "[[0. 0. 0. ... 0. 0. 1.]\n",
      " [0. 0. 0. ... 0. 0. 0.]\n",
      " [0. 0. 0. ... 0. 0. 0.]\n",
      " ...\n",
      " [0. 0. 0. ... 0. 0. 0.]\n",
      " [0. 0. 0. ... 0. 0. 0.]\n",
      " [0. 0. 0. ... 0. 0. 0.]], shape=(32, 38), dtype=float32) (32, 38)\n"
     ]
    }
   ],
   "source": [
    "for (x,y) in training_set:\n",
    "    print(x,x.shape)\n",
    "    print(y,y.shape)\n",
    "    break\n",
    "    "
   ]
  },
  {
   "cell_type": "code",
   "execution_count": 110,
   "id": "35119ff4-0024-45a7-af3d-ff68eee40079",
   "metadata": {},
   "outputs": [],
   "source": [
    "##Building Model\n",
    "\n",
    "from tensorflow.keras.layers import Dense, Conv2D,MaxPool2D,Flatten,Dropout\n",
    "from tensorflow.keras.models import Sequential\n"
   ]
  },
  {
   "cell_type": "code",
   "execution_count": 111,
   "id": "960dd3db-fe33-4d57-b224-98494db7bb2a",
   "metadata": {},
   "outputs": [],
   "source": [
    "model = Sequential()"
   ]
  },
  {
   "cell_type": "code",
   "execution_count": 112,
   "id": "6f0bd7ca-dc62-4705-bc64-a834efb8e1e5",
   "metadata": {},
   "outputs": [
    {
     "name": "stderr",
     "output_type": "stream",
     "text": [
      "c:\\Users\\Victus\\OneDrive\\Desktop\\Plant_Disease_Prediction\\New Plant Diseases Dataset(Augmented)\\myenv\\Lib\\site-packages\\keras\\src\\layers\\convolutional\\base_conv.py:99: UserWarning: Do not pass an `input_shape`/`input_dim` argument to a layer. When using Sequential models, prefer using an `Input(shape)` object as the first layer in the model instead.\n",
      "  super().__init__(\n"
     ]
    }
   ],
   "source": [
    "##Building Convolutional Layer\n",
    "model.add(Conv2D(filters=32,kernel_size=3,padding='same',activation='relu',input_shape=[128,128,3]))\n",
    "model.add(Conv2D(filters=32,kernel_size=3,padding='same',activation='relu'))\n",
    "model.add(MaxPool2D(pool_size=2,strides=2))"
   ]
  },
  {
   "cell_type": "code",
   "execution_count": 113,
   "id": "a4f6d887-e3cc-4c7b-b411-1028ebe147a1",
   "metadata": {},
   "outputs": [],
   "source": [
    "model.add(Conv2D(filters=64,kernel_size=3,padding='same',activation='relu',input_shape=[128,128,3]))\n",
    "model.add(Conv2D(filters=64,kernel_size=3,padding='same',activation='relu'))\n",
    "model.add(MaxPool2D(pool_size=2,strides=2))"
   ]
  },
  {
   "cell_type": "code",
   "execution_count": 114,
   "id": "817d9b15-61be-48b7-a121-e62189ee28d2",
   "metadata": {},
   "outputs": [],
   "source": [
    "model.add(Conv2D(filters=128,kernel_size=3,padding='same',activation='relu'))\n",
    "model.add(Conv2D(filters=128,kernel_size=3,padding='same',activation='relu'))\n",
    "model.add(MaxPool2D(pool_size=2,strides=2))"
   ]
  },
  {
   "cell_type": "code",
   "execution_count": 115,
   "id": "a5f0f6d9-dd34-4d7b-b3fc-73c3eb1b5280",
   "metadata": {},
   "outputs": [],
   "source": [
    "model.add(Conv2D(filters=256,kernel_size=3,padding='same',activation='relu'))\n",
    "model.add(Conv2D(filters=256,kernel_size=3,padding='same',activation='relu'))\n",
    "model.add(MaxPool2D(pool_size=2,strides=2))"
   ]
  },
  {
   "cell_type": "code",
   "execution_count": 116,
   "id": "494a7275-535b-46b1-9438-86a245215e38",
   "metadata": {},
   "outputs": [],
   "source": [
    "model.add(Flatten())"
   ]
  },
  {
   "cell_type": "code",
   "execution_count": 117,
   "id": "e37b17f8-b05c-48ee-9184-6f9228eb9531",
   "metadata": {},
   "outputs": [],
   "source": [
    "model.add(Dense(units=1024,activation='relu'))"
   ]
  },
  {
   "cell_type": "code",
   "execution_count": 118,
   "id": "3d3c28ef-36a9-4026-be13-ee2c3df29e4c",
   "metadata": {},
   "outputs": [],
   "source": [
    "#Output Layer\n",
    "model.add(Dense(units=38,activation='softmax'))"
   ]
  },
  {
   "cell_type": "code",
   "execution_count": 119,
   "id": "6f79aeae-35ad-4fb1-a104-12f5d7c29cdd",
   "metadata": {},
   "outputs": [],
   "source": [
    "model.compile(optimizer='adam', loss='categorical_crossentropy', metrics=['accuracy'])\n"
   ]
  },
  {
   "cell_type": "code",
   "execution_count": 120,
   "id": "f0f4c61a-807f-4871-b6f5-b1cf87bbc14a",
   "metadata": {},
   "outputs": [
    {
     "data": {
      "text/html": [
       "<pre style=\"white-space:pre;overflow-x:auto;line-height:normal;font-family:Menlo,'DejaVu Sans Mono',consolas,'Courier New',monospace\"><span style=\"font-weight: bold\">Model: \"sequential_3\"</span>\n",
       "</pre>\n"
      ],
      "text/plain": [
       "\u001b[1mModel: \"sequential_3\"\u001b[0m\n"
      ]
     },
     "metadata": {},
     "output_type": "display_data"
    },
    {
     "data": {
      "text/html": [
       "<pre style=\"white-space:pre;overflow-x:auto;line-height:normal;font-family:Menlo,'DejaVu Sans Mono',consolas,'Courier New',monospace\">┏━━━━━━━━━━━━━━━━━━━━━━━━━━━━━━━━━┳━━━━━━━━━━━━━━━━━━━━━━━━┳━━━━━━━━━━━━━━━┓\n",
       "┃<span style=\"font-weight: bold\"> Layer (type)                    </span>┃<span style=\"font-weight: bold\"> Output Shape           </span>┃<span style=\"font-weight: bold\">       Param # </span>┃\n",
       "┡━━━━━━━━━━━━━━━━━━━━━━━━━━━━━━━━━╇━━━━━━━━━━━━━━━━━━━━━━━━╇━━━━━━━━━━━━━━━┩\n",
       "│ conv2d_31 (<span style=\"color: #0087ff; text-decoration-color: #0087ff\">Conv2D</span>)              │ (<span style=\"color: #00d7ff; text-decoration-color: #00d7ff\">None</span>, <span style=\"color: #00af00; text-decoration-color: #00af00\">128</span>, <span style=\"color: #00af00; text-decoration-color: #00af00\">128</span>, <span style=\"color: #00af00; text-decoration-color: #00af00\">32</span>)   │           <span style=\"color: #00af00; text-decoration-color: #00af00\">896</span> │\n",
       "├─────────────────────────────────┼────────────────────────┼───────────────┤\n",
       "│ conv2d_32 (<span style=\"color: #0087ff; text-decoration-color: #0087ff\">Conv2D</span>)              │ (<span style=\"color: #00d7ff; text-decoration-color: #00d7ff\">None</span>, <span style=\"color: #00af00; text-decoration-color: #00af00\">128</span>, <span style=\"color: #00af00; text-decoration-color: #00af00\">128</span>, <span style=\"color: #00af00; text-decoration-color: #00af00\">32</span>)   │         <span style=\"color: #00af00; text-decoration-color: #00af00\">9,248</span> │\n",
       "├─────────────────────────────────┼────────────────────────┼───────────────┤\n",
       "│ max_pooling2d_15 (<span style=\"color: #0087ff; text-decoration-color: #0087ff\">MaxPooling2D</span>) │ (<span style=\"color: #00d7ff; text-decoration-color: #00d7ff\">None</span>, <span style=\"color: #00af00; text-decoration-color: #00af00\">64</span>, <span style=\"color: #00af00; text-decoration-color: #00af00\">64</span>, <span style=\"color: #00af00; text-decoration-color: #00af00\">32</span>)     │             <span style=\"color: #00af00; text-decoration-color: #00af00\">0</span> │\n",
       "├─────────────────────────────────┼────────────────────────┼───────────────┤\n",
       "│ conv2d_33 (<span style=\"color: #0087ff; text-decoration-color: #0087ff\">Conv2D</span>)              │ (<span style=\"color: #00d7ff; text-decoration-color: #00d7ff\">None</span>, <span style=\"color: #00af00; text-decoration-color: #00af00\">64</span>, <span style=\"color: #00af00; text-decoration-color: #00af00\">64</span>, <span style=\"color: #00af00; text-decoration-color: #00af00\">64</span>)     │        <span style=\"color: #00af00; text-decoration-color: #00af00\">18,496</span> │\n",
       "├─────────────────────────────────┼────────────────────────┼───────────────┤\n",
       "│ conv2d_34 (<span style=\"color: #0087ff; text-decoration-color: #0087ff\">Conv2D</span>)              │ (<span style=\"color: #00d7ff; text-decoration-color: #00d7ff\">None</span>, <span style=\"color: #00af00; text-decoration-color: #00af00\">64</span>, <span style=\"color: #00af00; text-decoration-color: #00af00\">64</span>, <span style=\"color: #00af00; text-decoration-color: #00af00\">64</span>)     │        <span style=\"color: #00af00; text-decoration-color: #00af00\">36,928</span> │\n",
       "├─────────────────────────────────┼────────────────────────┼───────────────┤\n",
       "│ max_pooling2d_16 (<span style=\"color: #0087ff; text-decoration-color: #0087ff\">MaxPooling2D</span>) │ (<span style=\"color: #00d7ff; text-decoration-color: #00d7ff\">None</span>, <span style=\"color: #00af00; text-decoration-color: #00af00\">32</span>, <span style=\"color: #00af00; text-decoration-color: #00af00\">32</span>, <span style=\"color: #00af00; text-decoration-color: #00af00\">64</span>)     │             <span style=\"color: #00af00; text-decoration-color: #00af00\">0</span> │\n",
       "├─────────────────────────────────┼────────────────────────┼───────────────┤\n",
       "│ conv2d_35 (<span style=\"color: #0087ff; text-decoration-color: #0087ff\">Conv2D</span>)              │ (<span style=\"color: #00d7ff; text-decoration-color: #00d7ff\">None</span>, <span style=\"color: #00af00; text-decoration-color: #00af00\">32</span>, <span style=\"color: #00af00; text-decoration-color: #00af00\">32</span>, <span style=\"color: #00af00; text-decoration-color: #00af00\">128</span>)    │        <span style=\"color: #00af00; text-decoration-color: #00af00\">73,856</span> │\n",
       "├─────────────────────────────────┼────────────────────────┼───────────────┤\n",
       "│ conv2d_36 (<span style=\"color: #0087ff; text-decoration-color: #0087ff\">Conv2D</span>)              │ (<span style=\"color: #00d7ff; text-decoration-color: #00d7ff\">None</span>, <span style=\"color: #00af00; text-decoration-color: #00af00\">32</span>, <span style=\"color: #00af00; text-decoration-color: #00af00\">32</span>, <span style=\"color: #00af00; text-decoration-color: #00af00\">128</span>)    │       <span style=\"color: #00af00; text-decoration-color: #00af00\">147,584</span> │\n",
       "├─────────────────────────────────┼────────────────────────┼───────────────┤\n",
       "│ max_pooling2d_17 (<span style=\"color: #0087ff; text-decoration-color: #0087ff\">MaxPooling2D</span>) │ (<span style=\"color: #00d7ff; text-decoration-color: #00d7ff\">None</span>, <span style=\"color: #00af00; text-decoration-color: #00af00\">16</span>, <span style=\"color: #00af00; text-decoration-color: #00af00\">16</span>, <span style=\"color: #00af00; text-decoration-color: #00af00\">128</span>)    │             <span style=\"color: #00af00; text-decoration-color: #00af00\">0</span> │\n",
       "├─────────────────────────────────┼────────────────────────┼───────────────┤\n",
       "│ conv2d_37 (<span style=\"color: #0087ff; text-decoration-color: #0087ff\">Conv2D</span>)              │ (<span style=\"color: #00d7ff; text-decoration-color: #00d7ff\">None</span>, <span style=\"color: #00af00; text-decoration-color: #00af00\">16</span>, <span style=\"color: #00af00; text-decoration-color: #00af00\">16</span>, <span style=\"color: #00af00; text-decoration-color: #00af00\">256</span>)    │       <span style=\"color: #00af00; text-decoration-color: #00af00\">295,168</span> │\n",
       "├─────────────────────────────────┼────────────────────────┼───────────────┤\n",
       "│ conv2d_38 (<span style=\"color: #0087ff; text-decoration-color: #0087ff\">Conv2D</span>)              │ (<span style=\"color: #00d7ff; text-decoration-color: #00d7ff\">None</span>, <span style=\"color: #00af00; text-decoration-color: #00af00\">16</span>, <span style=\"color: #00af00; text-decoration-color: #00af00\">16</span>, <span style=\"color: #00af00; text-decoration-color: #00af00\">256</span>)    │       <span style=\"color: #00af00; text-decoration-color: #00af00\">590,080</span> │\n",
       "├─────────────────────────────────┼────────────────────────┼───────────────┤\n",
       "│ max_pooling2d_18 (<span style=\"color: #0087ff; text-decoration-color: #0087ff\">MaxPooling2D</span>) │ (<span style=\"color: #00d7ff; text-decoration-color: #00d7ff\">None</span>, <span style=\"color: #00af00; text-decoration-color: #00af00\">8</span>, <span style=\"color: #00af00; text-decoration-color: #00af00\">8</span>, <span style=\"color: #00af00; text-decoration-color: #00af00\">256</span>)      │             <span style=\"color: #00af00; text-decoration-color: #00af00\">0</span> │\n",
       "├─────────────────────────────────┼────────────────────────┼───────────────┤\n",
       "│ flatten_4 (<span style=\"color: #0087ff; text-decoration-color: #0087ff\">Flatten</span>)             │ (<span style=\"color: #00d7ff; text-decoration-color: #00d7ff\">None</span>, <span style=\"color: #00af00; text-decoration-color: #00af00\">16384</span>)          │             <span style=\"color: #00af00; text-decoration-color: #00af00\">0</span> │\n",
       "├─────────────────────────────────┼────────────────────────┼───────────────┤\n",
       "│ dense_11 (<span style=\"color: #0087ff; text-decoration-color: #0087ff\">Dense</span>)                │ (<span style=\"color: #00d7ff; text-decoration-color: #00d7ff\">None</span>, <span style=\"color: #00af00; text-decoration-color: #00af00\">1024</span>)           │    <span style=\"color: #00af00; text-decoration-color: #00af00\">16,778,240</span> │\n",
       "├─────────────────────────────────┼────────────────────────┼───────────────┤\n",
       "│ dense_12 (<span style=\"color: #0087ff; text-decoration-color: #0087ff\">Dense</span>)                │ (<span style=\"color: #00d7ff; text-decoration-color: #00d7ff\">None</span>, <span style=\"color: #00af00; text-decoration-color: #00af00\">38</span>)             │        <span style=\"color: #00af00; text-decoration-color: #00af00\">38,950</span> │\n",
       "└─────────────────────────────────┴────────────────────────┴───────────────┘\n",
       "</pre>\n"
      ],
      "text/plain": [
       "┏━━━━━━━━━━━━━━━━━━━━━━━━━━━━━━━━━┳━━━━━━━━━━━━━━━━━━━━━━━━┳━━━━━━━━━━━━━━━┓\n",
       "┃\u001b[1m \u001b[0m\u001b[1mLayer (type)                   \u001b[0m\u001b[1m \u001b[0m┃\u001b[1m \u001b[0m\u001b[1mOutput Shape          \u001b[0m\u001b[1m \u001b[0m┃\u001b[1m \u001b[0m\u001b[1m      Param #\u001b[0m\u001b[1m \u001b[0m┃\n",
       "┡━━━━━━━━━━━━━━━━━━━━━━━━━━━━━━━━━╇━━━━━━━━━━━━━━━━━━━━━━━━╇━━━━━━━━━━━━━━━┩\n",
       "│ conv2d_31 (\u001b[38;5;33mConv2D\u001b[0m)              │ (\u001b[38;5;45mNone\u001b[0m, \u001b[38;5;34m128\u001b[0m, \u001b[38;5;34m128\u001b[0m, \u001b[38;5;34m32\u001b[0m)   │           \u001b[38;5;34m896\u001b[0m │\n",
       "├─────────────────────────────────┼────────────────────────┼───────────────┤\n",
       "│ conv2d_32 (\u001b[38;5;33mConv2D\u001b[0m)              │ (\u001b[38;5;45mNone\u001b[0m, \u001b[38;5;34m128\u001b[0m, \u001b[38;5;34m128\u001b[0m, \u001b[38;5;34m32\u001b[0m)   │         \u001b[38;5;34m9,248\u001b[0m │\n",
       "├─────────────────────────────────┼────────────────────────┼───────────────┤\n",
       "│ max_pooling2d_15 (\u001b[38;5;33mMaxPooling2D\u001b[0m) │ (\u001b[38;5;45mNone\u001b[0m, \u001b[38;5;34m64\u001b[0m, \u001b[38;5;34m64\u001b[0m, \u001b[38;5;34m32\u001b[0m)     │             \u001b[38;5;34m0\u001b[0m │\n",
       "├─────────────────────────────────┼────────────────────────┼───────────────┤\n",
       "│ conv2d_33 (\u001b[38;5;33mConv2D\u001b[0m)              │ (\u001b[38;5;45mNone\u001b[0m, \u001b[38;5;34m64\u001b[0m, \u001b[38;5;34m64\u001b[0m, \u001b[38;5;34m64\u001b[0m)     │        \u001b[38;5;34m18,496\u001b[0m │\n",
       "├─────────────────────────────────┼────────────────────────┼───────────────┤\n",
       "│ conv2d_34 (\u001b[38;5;33mConv2D\u001b[0m)              │ (\u001b[38;5;45mNone\u001b[0m, \u001b[38;5;34m64\u001b[0m, \u001b[38;5;34m64\u001b[0m, \u001b[38;5;34m64\u001b[0m)     │        \u001b[38;5;34m36,928\u001b[0m │\n",
       "├─────────────────────────────────┼────────────────────────┼───────────────┤\n",
       "│ max_pooling2d_16 (\u001b[38;5;33mMaxPooling2D\u001b[0m) │ (\u001b[38;5;45mNone\u001b[0m, \u001b[38;5;34m32\u001b[0m, \u001b[38;5;34m32\u001b[0m, \u001b[38;5;34m64\u001b[0m)     │             \u001b[38;5;34m0\u001b[0m │\n",
       "├─────────────────────────────────┼────────────────────────┼───────────────┤\n",
       "│ conv2d_35 (\u001b[38;5;33mConv2D\u001b[0m)              │ (\u001b[38;5;45mNone\u001b[0m, \u001b[38;5;34m32\u001b[0m, \u001b[38;5;34m32\u001b[0m, \u001b[38;5;34m128\u001b[0m)    │        \u001b[38;5;34m73,856\u001b[0m │\n",
       "├─────────────────────────────────┼────────────────────────┼───────────────┤\n",
       "│ conv2d_36 (\u001b[38;5;33mConv2D\u001b[0m)              │ (\u001b[38;5;45mNone\u001b[0m, \u001b[38;5;34m32\u001b[0m, \u001b[38;5;34m32\u001b[0m, \u001b[38;5;34m128\u001b[0m)    │       \u001b[38;5;34m147,584\u001b[0m │\n",
       "├─────────────────────────────────┼────────────────────────┼───────────────┤\n",
       "│ max_pooling2d_17 (\u001b[38;5;33mMaxPooling2D\u001b[0m) │ (\u001b[38;5;45mNone\u001b[0m, \u001b[38;5;34m16\u001b[0m, \u001b[38;5;34m16\u001b[0m, \u001b[38;5;34m128\u001b[0m)    │             \u001b[38;5;34m0\u001b[0m │\n",
       "├─────────────────────────────────┼────────────────────────┼───────────────┤\n",
       "│ conv2d_37 (\u001b[38;5;33mConv2D\u001b[0m)              │ (\u001b[38;5;45mNone\u001b[0m, \u001b[38;5;34m16\u001b[0m, \u001b[38;5;34m16\u001b[0m, \u001b[38;5;34m256\u001b[0m)    │       \u001b[38;5;34m295,168\u001b[0m │\n",
       "├─────────────────────────────────┼────────────────────────┼───────────────┤\n",
       "│ conv2d_38 (\u001b[38;5;33mConv2D\u001b[0m)              │ (\u001b[38;5;45mNone\u001b[0m, \u001b[38;5;34m16\u001b[0m, \u001b[38;5;34m16\u001b[0m, \u001b[38;5;34m256\u001b[0m)    │       \u001b[38;5;34m590,080\u001b[0m │\n",
       "├─────────────────────────────────┼────────────────────────┼───────────────┤\n",
       "│ max_pooling2d_18 (\u001b[38;5;33mMaxPooling2D\u001b[0m) │ (\u001b[38;5;45mNone\u001b[0m, \u001b[38;5;34m8\u001b[0m, \u001b[38;5;34m8\u001b[0m, \u001b[38;5;34m256\u001b[0m)      │             \u001b[38;5;34m0\u001b[0m │\n",
       "├─────────────────────────────────┼────────────────────────┼───────────────┤\n",
       "│ flatten_4 (\u001b[38;5;33mFlatten\u001b[0m)             │ (\u001b[38;5;45mNone\u001b[0m, \u001b[38;5;34m16384\u001b[0m)          │             \u001b[38;5;34m0\u001b[0m │\n",
       "├─────────────────────────────────┼────────────────────────┼───────────────┤\n",
       "│ dense_11 (\u001b[38;5;33mDense\u001b[0m)                │ (\u001b[38;5;45mNone\u001b[0m, \u001b[38;5;34m1024\u001b[0m)           │    \u001b[38;5;34m16,778,240\u001b[0m │\n",
       "├─────────────────────────────────┼────────────────────────┼───────────────┤\n",
       "│ dense_12 (\u001b[38;5;33mDense\u001b[0m)                │ (\u001b[38;5;45mNone\u001b[0m, \u001b[38;5;34m38\u001b[0m)             │        \u001b[38;5;34m38,950\u001b[0m │\n",
       "└─────────────────────────────────┴────────────────────────┴───────────────┘\n"
      ]
     },
     "metadata": {},
     "output_type": "display_data"
    },
    {
     "data": {
      "text/html": [
       "<pre style=\"white-space:pre;overflow-x:auto;line-height:normal;font-family:Menlo,'DejaVu Sans Mono',consolas,'Courier New',monospace\"><span style=\"font-weight: bold\"> Total params: </span><span style=\"color: #00af00; text-decoration-color: #00af00\">17,989,446</span> (68.62 MB)\n",
       "</pre>\n"
      ],
      "text/plain": [
       "\u001b[1m Total params: \u001b[0m\u001b[38;5;34m17,989,446\u001b[0m (68.62 MB)\n"
      ]
     },
     "metadata": {},
     "output_type": "display_data"
    },
    {
     "data": {
      "text/html": [
       "<pre style=\"white-space:pre;overflow-x:auto;line-height:normal;font-family:Menlo,'DejaVu Sans Mono',consolas,'Courier New',monospace\"><span style=\"font-weight: bold\"> Trainable params: </span><span style=\"color: #00af00; text-decoration-color: #00af00\">17,989,446</span> (68.62 MB)\n",
       "</pre>\n"
      ],
      "text/plain": [
       "\u001b[1m Trainable params: \u001b[0m\u001b[38;5;34m17,989,446\u001b[0m (68.62 MB)\n"
      ]
     },
     "metadata": {},
     "output_type": "display_data"
    },
    {
     "data": {
      "text/html": [
       "<pre style=\"white-space:pre;overflow-x:auto;line-height:normal;font-family:Menlo,'DejaVu Sans Mono',consolas,'Courier New',monospace\"><span style=\"font-weight: bold\"> Non-trainable params: </span><span style=\"color: #00af00; text-decoration-color: #00af00\">0</span> (0.00 B)\n",
       "</pre>\n"
      ],
      "text/plain": [
       "\u001b[1m Non-trainable params: \u001b[0m\u001b[38;5;34m0\u001b[0m (0.00 B)\n"
      ]
     },
     "metadata": {},
     "output_type": "display_data"
    }
   ],
   "source": [
    "model.summary()"
   ]
  },
  {
   "cell_type": "code",
   "execution_count": 121,
   "id": "1a32634f-f13b-4036-a2e7-d35e6e7e9048",
   "metadata": {},
   "outputs": [],
   "source": [
    "##Model Training "
   ]
  },
  {
   "cell_type": "code",
   "execution_count": 122,
   "id": "09f75194-0efa-4e1d-949e-378e8c834f8f",
   "metadata": {},
   "outputs": [
    {
     "name": "stdout",
     "output_type": "stream",
     "text": [
      "Epoch 1/10\n"
     ]
    },
    {
     "name": "stdout",
     "output_type": "stream",
     "text": [
      "WARNING:tensorflow:5 out of the last 9539 calls to <function TensorFlowTrainer.make_train_function.<locals>.one_step_on_iterator at 0x000001F134FD3420> triggered tf.function retracing. Tracing is expensive and the excessive number of tracings could be due to (1) creating @tf.function repeatedly in a loop, (2) passing tensors with different shapes, (3) passing Python objects instead of tensors. For (1), please define your @tf.function outside of the loop. For (2), @tf.function has reduce_retracing=True option that can avoid unnecessary retracing. For (3), please refer to https://www.tensorflow.org/guide/function#controlling_retracing and https://www.tensorflow.org/api_docs/python/tf/function for  more details.\n",
      "\u001b[1m953/953\u001b[0m \u001b[32m━━━━━━━━━━━━━━━━━━━━\u001b[0m\u001b[37m\u001b[0m \u001b[1m564s\u001b[0m 589ms/step - accuracy: 0.4605 - loss: 2.0389 - val_accuracy: 0.7792 - val_loss: 0.6804\n",
      "Epoch 2/10\n",
      "\u001b[1m953/953\u001b[0m \u001b[32m━━━━━━━━━━━━━━━━━━━━\u001b[0m\u001b[37m\u001b[0m \u001b[1m543s\u001b[0m 570ms/step - accuracy: 0.8512 - loss: 0.4681 - val_accuracy: 0.8759 - val_loss: 0.3947\n",
      "Epoch 3/10\n",
      "\u001b[1m953/953\u001b[0m \u001b[32m━━━━━━━━━━━━━━━━━━━━\u001b[0m\u001b[37m\u001b[0m \u001b[1m546s\u001b[0m 573ms/step - accuracy: 0.9132 - loss: 0.2718 - val_accuracy: 0.9106 - val_loss: 0.2670\n",
      "Epoch 4/10\n",
      "\u001b[1m953/953\u001b[0m \u001b[32m━━━━━━━━━━━━━━━━━━━━\u001b[0m\u001b[37m\u001b[0m \u001b[1m544s\u001b[0m 571ms/step - accuracy: 0.9373 - loss: 0.1885 - val_accuracy: 0.9080 - val_loss: 0.2988\n",
      "Epoch 5/10\n",
      "\u001b[1m953/953\u001b[0m \u001b[32m━━━━━━━━━━━━━━━━━━━━\u001b[0m\u001b[37m\u001b[0m \u001b[1m548s\u001b[0m 575ms/step - accuracy: 0.9474 - loss: 0.1563 - val_accuracy: 0.8894 - val_loss: 0.4251\n",
      "Epoch 6/10\n",
      "\u001b[1m953/953\u001b[0m \u001b[32m━━━━━━━━━━━━━━━━━━━━\u001b[0m\u001b[37m\u001b[0m \u001b[1m549s\u001b[0m 576ms/step - accuracy: 0.9425 - loss: 0.1859 - val_accuracy: 0.9213 - val_loss: 0.3076\n",
      "Epoch 7/10\n",
      "\u001b[1m953/953\u001b[0m \u001b[32m━━━━━━━━━━━━━━━━━━━━\u001b[0m\u001b[37m\u001b[0m \u001b[1m553s\u001b[0m 580ms/step - accuracy: 0.9606 - loss: 0.1286 - val_accuracy: 0.8932 - val_loss: 0.3917\n",
      "Epoch 8/10\n",
      "\u001b[1m953/953\u001b[0m \u001b[32m━━━━━━━━━━━━━━━━━━━━\u001b[0m\u001b[37m\u001b[0m \u001b[1m552s\u001b[0m 579ms/step - accuracy: 0.9649 - loss: 0.1079 - val_accuracy: 0.9271 - val_loss: 0.2712\n",
      "Epoch 9/10\n",
      "\u001b[1m953/953\u001b[0m \u001b[32m━━━━━━━━━━━━━━━━━━━━\u001b[0m\u001b[37m\u001b[0m \u001b[1m549s\u001b[0m 576ms/step - accuracy: 0.9737 - loss: 0.0784 - val_accuracy: 0.9377 - val_loss: 0.2361\n",
      "Epoch 10/10\n",
      "\u001b[1m953/953\u001b[0m \u001b[32m━━━━━━━━━━━━━━━━━━━━\u001b[0m\u001b[37m\u001b[0m \u001b[1m547s\u001b[0m 574ms/step - accuracy: 0.9705 - loss: 0.0982 - val_accuracy: 0.8969 - val_loss: 0.4746\n"
     ]
    }
   ],
   "source": [
    "training_history = model.fit(x=training_set,validation_data=validation_set,epochs=10)"
   ]
  },
  {
   "cell_type": "code",
   "execution_count": 123,
   "id": "e2356cb0-4b65-42bd-ad20-b163805a64bf",
   "metadata": {},
   "outputs": [
    {
     "name": "stdout",
     "output_type": "stream",
     "text": [
      "\u001b[1m953/953\u001b[0m \u001b[32m━━━━━━━━━━━━━━━━━━━━\u001b[0m\u001b[37m\u001b[0m \u001b[1m145s\u001b[0m 151ms/step - accuracy: 0.9545 - loss: 0.1545\n"
     ]
    }
   ],
   "source": [
    "##Model Evaluation on Training Set\n",
    "train_loss,train_acc = model.evaluate(training_set)"
   ]
  },
  {
   "cell_type": "code",
   "execution_count": 124,
   "id": "01f6b02e",
   "metadata": {},
   "outputs": [
    {
     "name": "stdout",
     "output_type": "stream",
     "text": [
      "0.14104558527469635 0.9569740891456604\n"
     ]
    }
   ],
   "source": [
    "print(train_loss,train_acc)"
   ]
  },
  {
   "cell_type": "code",
   "execution_count": 126,
   "id": "eca42f30",
   "metadata": {},
   "outputs": [
    {
     "name": "stdout",
     "output_type": "stream",
     "text": [
      "\u001b[1m237/237\u001b[0m \u001b[32m━━━━━━━━━━━━━━━━━━━━\u001b[0m\u001b[37m\u001b[0m \u001b[1m39s\u001b[0m 160ms/step - accuracy: 0.8969 - loss: 0.4623\n"
     ]
    }
   ],
   "source": [
    "##Model Evaluation on Training Set\n",
    "val_loss,val_acc = model.evaluate(validation_set)"
   ]
  },
  {
   "cell_type": "code",
   "execution_count": 23,
   "id": "9ffdca50",
   "metadata": {},
   "outputs": [
    {
     "name": "stdout",
     "output_type": "stream",
     "text": [
      "0.34809422492980957 0.9259063005447388\n"
     ]
    }
   ],
   "source": [
    "print(val_loss,val_acc)"
   ]
  },
  {
   "cell_type": "code",
   "execution_count": 25,
   "id": "33859986",
   "metadata": {},
   "outputs": [],
   "source": [
    "#Saving Model\n",
    "model.save('trained_model.keras')"
   ]
  },
  {
   "cell_type": "code",
   "execution_count": 26,
   "id": "ddc2b884",
   "metadata": {},
   "outputs": [
    {
     "data": {
      "text/plain": [
       "{'accuracy': [0.5577288866043091,\n",
       "  0.8415490388870239,\n",
       "  0.8984246850013733,\n",
       "  0.9314407706260681,\n",
       "  0.9451263546943665,\n",
       "  0.9515588879585266,\n",
       "  0.9598293304443359,\n",
       "  0.9682967066764832,\n",
       "  0.9716770648956299,\n",
       "  0.9700360894203186],\n",
       " 'loss': [1.5139009952545166,\n",
       "  0.49800974130630493,\n",
       "  0.30354249477386475,\n",
       "  0.20649942755699158,\n",
       "  0.16092218458652496,\n",
       "  0.1475009322166443,\n",
       "  0.11711280047893524,\n",
       "  0.10018296539783478,\n",
       "  0.0910935327410698,\n",
       "  0.09383751451969147],\n",
       " 'val_accuracy': [0.6541413068771362,\n",
       "  0.8428155779838562,\n",
       "  0.8850225210189819,\n",
       "  0.8944165110588074,\n",
       "  0.8862133026123047,\n",
       "  0.9244509339332581,\n",
       "  0.9228631854057312,\n",
       "  0.9133368730545044,\n",
       "  0.920216977596283,\n",
       "  0.9001058340072632],\n",
       " 'val_loss': [1.0852378606796265,\n",
       "  0.4797283709049225,\n",
       "  0.3657085597515106,\n",
       "  0.34965428709983826,\n",
       "  0.39944934844970703,\n",
       "  0.26816922426223755,\n",
       "  0.31698814034461975,\n",
       "  0.3302130401134491,\n",
       "  0.3449302911758423,\n",
       "  0.40554797649383545]}"
      ]
     },
     "execution_count": 26,
     "metadata": {},
     "output_type": "execute_result"
    }
   ],
   "source": [
    "training_history.history"
   ]
  },
  {
   "cell_type": "code",
   "execution_count": 27,
   "id": "c90318f6",
   "metadata": {},
   "outputs": [],
   "source": [
    " #Recording History for future use\n",
    "import json\n",
    "with open(\"training_hist.json\",\"w\") as f:\n",
    "    json.dump(training_history.history,f)"
   ]
  },
  {
   "cell_type": "markdown",
   "id": "8a473273",
   "metadata": {},
   "source": [
    "Accuracy Visualization\n",
    "\n"
   ]
  },
  {
   "cell_type": "code",
   "execution_count": 28,
   "id": "13496985",
   "metadata": {},
   "outputs": [
    {
     "data": {
      "image/png": "[encoded data removed]",
      "text/plain": [
       "<Figure size 640x480 with 1 Axes>"
      ]
     },
     "metadata": {},
     "output_type": "display_data"
    }
   ],
   "source": [
    "epochs = [i for i in range(1,11)]\n",
    "plt.plot(epochs,training_history.history['accuracy'],color = 'green',label = 'Training Accuracy')\n",
    "plt.plot(epochs,training_history.history['val_accuracy'],color = 'black',label = 'Validation Accuracy')\n",
    "plt.xlabel(\"No. of epochs\")\n",
    "plt.ylabel(\"Accuracy Result\")\n",
    "plt.title(\"Visualization of Accuracy Result\")\n",
    "plt.legend()\n",
    "plt.show()"
   ]
  },
  {
   "cell_type": "markdown",
   "id": "8878a4c4",
   "metadata": {},
   "source": [
    "Some metrics for model evaluation"
   ]
  },
  {
   "cell_type": "code",
   "execution_count": 29,
   "id": "319a1cc2",
   "metadata": {},
   "outputs": [
    {
     "data": {
      "text/plain": [
       "['Apple___Apple_scab',\n",
       " 'Apple___Black_rot',\n",
       " 'Apple___Cedar_apple_rust',\n",
       " 'Apple___healthy',\n",
       " 'Blueberry___healthy',\n",
       " 'Cherry_(including_sour)___Powdery_mildew',\n",
       " 'Cherry_(including_sour)___healthy',\n",
       " 'Corn_(maize)___Cercospora_leaf_spot Gray_leaf_spot',\n",
       " 'Corn_(maize)___Common_rust_',\n",
       " 'Corn_(maize)___Northern_Leaf_Blight',\n",
       " 'Corn_(maize)___healthy',\n",
       " 'Grape___Black_rot',\n",
       " 'Grape___Esca_(Black_Measles)',\n",
       " 'Grape___Leaf_blight_(Isariopsis_Leaf_Spot)',\n",
       " 'Grape___healthy',\n",
       " 'Orange___Haunglongbing_(Citrus_greening)',\n",
       " 'Peach___Bacterial_spot',\n",
       " 'Peach___healthy',\n",
       " 'Pepper,_bell___Bacterial_spot',\n",
       " 'Pepper,_bell___healthy',\n",
       " 'Potato___Early_blight',\n",
       " 'Potato___Late_blight',\n",
       " 'Potato___healthy',\n",
       " 'Raspberry___healthy',\n",
       " 'Soybean___healthy',\n",
       " 'Squash___Powdery_mildew',\n",
       " 'Strawberry___Leaf_scorch',\n",
       " 'Strawberry___healthy',\n",
       " 'Tomato___Bacterial_spot',\n",
       " 'Tomato___Early_blight',\n",
       " 'Tomato___Late_blight',\n",
       " 'Tomato___Leaf_Mold',\n",
       " 'Tomato___Septoria_leaf_spot',\n",
       " 'Tomato___Spider_mites Two-spotted_spider_mite',\n",
       " 'Tomato___Target_Spot',\n",
       " 'Tomato___Tomato_Yellow_Leaf_Curl_Virus',\n",
       " 'Tomato___Tomato_mosaic_virus',\n",
       " 'Tomato___healthy']"
      ]
     },
     "execution_count": 29,
     "metadata": {},
     "output_type": "execute_result"
    }
   ],
   "source": [
    "class_name = validation_set.class_names\n",
    "class_name"
   ]
  },
  {
   "cell_type": "code",
   "execution_count": 30,
   "id": "21ec486a",
   "metadata": {},
   "outputs": [
    {
     "data": {
      "text/plain": [
       "38"
      ]
     },
     "execution_count": 30,
     "metadata": {},
     "output_type": "execute_result"
    }
   ],
   "source": [
    "len(class_name)"
   ]
  },
  {
   "cell_type": "code",
   "execution_count": 31,
   "id": "10a273ff",
   "metadata": {},
   "outputs": [
    {
     "name": "stdout",
     "output_type": "stream",
     "text": [
      "Found 7558 files belonging to 38 classes.\n"
     ]
    }
   ],
   "source": [
    "test_set = tf.keras.utils.image_dataset_from_directory(\n",
    "    'valid',\n",
    "    labels=\"inferred\",\n",
    "    label_mode=\"categorical\",\n",
    "    class_names=None,\n",
    "    color_mode=\"rgb\",\n",
    "    batch_size=32,\n",
    "    image_size=(128, 128),\n",
    "    shuffle=False,\n",
    "    seed=None,\n",
    "    validation_split=None,\n",
    "    subset=None,\n",
    "    interpolation=\"bilinear\",\n",
    "    follow_links=False,\n",
    "    crop_to_aspect_ratio=False,\n",
    "\n",
    ")"
   ]
  },
  {
   "cell_type": "code",
   "execution_count": 32,
   "id": "94c3767e",
   "metadata": {},
   "outputs": [
    {
     "name": "stdout",
     "output_type": "stream",
     "text": [
      "\u001b[1m237/237\u001b[0m \u001b[32m━━━━━━━━━━━━━━━━━━━━\u001b[0m\u001b[37m\u001b[0m \u001b[1m32s\u001b[0m 134ms/step\n"
     ]
    },
    {
     "data": {
      "text/plain": [
       "(array([[9.99998689e-01, 9.90789658e-07, 1.51729570e-23, ...,\n",
       "         1.89610165e-22, 2.13381964e-24, 1.75300807e-19],\n",
       "        [9.98434484e-01, 8.74759110e-08, 2.97012984e-14, ...,\n",
       "         4.48334051e-13, 4.28457427e-13, 1.84764530e-11],\n",
       "        [9.99938369e-01, 2.43562215e-09, 2.52763034e-14, ...,\n",
       "         1.73969691e-14, 2.80178916e-14, 1.78566970e-11],\n",
       "        ...,\n",
       "        [6.49695994e-06, 2.04866746e-09, 3.97525179e-10, ...,\n",
       "         1.84834048e-09, 2.51918331e-09, 2.21835554e-01],\n",
       "        [2.50323734e-10, 1.04892095e-13, 2.90495031e-16, ...,\n",
       "         3.60205340e-16, 9.30037941e-16, 9.53943610e-01],\n",
       "        [1.67766882e-15, 1.07948430e-15, 1.01676007e-19, ...,\n",
       "         1.74441612e-19, 9.76597090e-20, 9.99998689e-01]], dtype=float32),\n",
       " (7558, 38))"
      ]
     },
     "execution_count": 32,
     "metadata": {},
     "output_type": "execute_result"
    }
   ],
   "source": [
    "y_pred = model.predict(test_set)\n",
    "y_pred,y_pred.shape"
   ]
  },
  {
   "cell_type": "code",
   "execution_count": 33,
   "id": "fb22bf7c",
   "metadata": {},
   "outputs": [
    {
     "data": {
      "text/plain": [
       "<tf.Tensor: shape=(7558,), dtype=int64, numpy=array([ 0,  0,  0, ...,  3, 37, 37], dtype=int64)>"
      ]
     },
     "execution_count": 33,
     "metadata": {},
     "output_type": "execute_result"
    }
   ],
   "source": [
    "predicted_categories = tf.argmax(y_pred,axis=1)\n",
    "predicted_categories"
   ]
  },
  {
   "cell_type": "code",
   "execution_count": 34,
   "id": "afd83cfa",
   "metadata": {},
   "outputs": [
    {
     "data": {
      "text/plain": [
       "<tf.Tensor: shape=(7558, 38), dtype=float32, numpy=\n",
       "array([[1., 0., 0., ..., 0., 0., 0.],\n",
       "       [1., 0., 0., ..., 0., 0., 0.],\n",
       "       [1., 0., 0., ..., 0., 0., 0.],\n",
       "       ...,\n",
       "       [0., 0., 0., ..., 0., 0., 1.],\n",
       "       [0., 0., 0., ..., 0., 0., 1.],\n",
       "       [0., 0., 0., ..., 0., 0., 1.]], dtype=float32)>"
      ]
     },
     "execution_count": 34,
     "metadata": {},
     "output_type": "execute_result"
    }
   ],
   "source": [
    "true_categories = tf.concat([y for x,y in test_set], axis=0)\n",
    "true_categories"
   ]
  },
  {
   "cell_type": "code",
   "execution_count": 35,
   "id": "eec161ee",
   "metadata": {},
   "outputs": [
    {
     "data": {
      "text/plain": [
       "<tf.Tensor: shape=(7558,), dtype=int64, numpy=array([ 0,  0,  0, ..., 37, 37, 37], dtype=int64)>"
      ]
     },
     "execution_count": 35,
     "metadata": {},
     "output_type": "execute_result"
    }
   ],
   "source": [
    "Y_true = tf.argmax(true_categories,axis=1)\n",
    "Y_true"
   ]
  },
  {
   "cell_type": "code",
   "execution_count": 36,
   "id": "7ecbdd39",
   "metadata": {},
   "outputs": [],
   "source": [
    "from sklearn.metrics import classification_report,confusion_matrix"
   ]
  },
  {
   "cell_type": "code",
   "execution_count": 37,
   "id": "98954da1",
   "metadata": {},
   "outputs": [
    {
     "name": "stdout",
     "output_type": "stream",
     "text": [
      "              precision    recall  f1-score   support\n",
      "\n",
      "           0       0.81      0.89      0.85       262\n",
      "           1       0.94      0.96      0.95       356\n",
      "           3       0.84      0.87      0.86       502\n",
      "           4       0.91      0.94      0.93       382\n",
      "           8       0.99      1.00      1.00       477\n",
      "          10       0.95      0.98      0.96       111\n",
      "          11       0.99      1.00      0.99       472\n",
      "          14       0.96      0.97      0.96       336\n",
      "          16       0.75      0.84      0.79       200\n",
      "          17       0.94      0.94      0.94       286\n",
      "          19       0.78      0.97      0.86       311\n",
      "          20       0.90      0.90      0.90       210\n",
      "          21       0.88      0.88      0.88       485\n",
      "          22       0.76      0.81      0.78       262\n",
      "          23       0.95      0.86      0.90       293\n",
      "          24       0.95      0.89      0.92       505\n",
      "          25       0.99      0.89      0.94       360\n",
      "          27       0.95      0.93      0.94       353\n",
      "          29       0.69      0.67      0.68       192\n",
      "          30       0.82      0.76      0.79       331\n",
      "          31       0.89      0.81      0.85       183\n",
      "          34       0.91      0.90      0.90       280\n",
      "          37       0.95      0.87      0.91       409\n",
      "\n",
      "    accuracy                           0.90      7558\n",
      "   macro avg       0.89      0.89      0.89      7558\n",
      "weighted avg       0.90      0.90      0.90      7558\n",
      "\n"
     ]
    }
   ],
   "source": [
    "print(classification_report(Y_true,predicted_categories))"
   ]
  },
  {
   "cell_type": "code",
   "execution_count": 38,
   "id": "d3e39451",
   "metadata": {},
   "outputs": [
    {
     "data": {
      "text/plain": [
       "array([[232,   2,   9,   1,   1,   0,   1,   0,   6,   0,   2,   1,   0,\n",
       "          0,   0,   1,   0,   2,   1,   0,   1,   1,   1],\n",
       "       [  4, 342,   2,   0,   0,   0,   1,   2,   0,   0,   0,   0,   1,\n",
       "          3,   0,   0,   0,   0,   0,   1,   0,   0,   0],\n",
       "       [ 12,   0, 439,   5,   0,   0,   0,   3,   1,   9,   5,   0,   0,\n",
       "         15,   0,   7,   0,   0,   0,   1,   0,   2,   3],\n",
       "       [  7,   0,   3, 358,   0,   0,   0,   0,   0,   0,   1,   0,   2,\n",
       "          4,   0,   0,   0,   7,   0,   0,   0,   0,   0],\n",
       "       [  0,   0,   0,   0, 477,   0,   0,   0,   0,   0,   0,   0,   0,\n",
       "          0,   0,   0,   0,   0,   0,   0,   0,   0,   0],\n",
       "       [  0,   0,   0,   0,   1, 109,   0,   0,   1,   0,   0,   0,   0,\n",
       "          0,   0,   0,   0,   0,   0,   0,   0,   0,   0],\n",
       "       [  0,   0,   0,   0,   0,   0, 470,   1,   0,   0,   0,   1,   0,\n",
       "          0,   0,   0,   0,   0,   0,   0,   0,   0,   0],\n",
       "       [  0,   3,   0,   0,   0,   0,   0, 325,   1,   0,   0,   0,   2,\n",
       "          1,   2,   0,   0,   1,   1,   0,   0,   0,   0],\n",
       "       [  6,   4,   1,   1,   0,   0,   0,   0, 168,   1,   2,   3,   2,\n",
       "          0,   0,   0,   1,   0,   4,   2,   2,   3,   0],\n",
       "       [  0,   0,   3,   1,   0,   0,   0,   0,  11, 269,   0,   0,   0,\n",
       "          0,   0,   0,   0,   0,   0,   0,   0,   1,   1],\n",
       "       [  0,   0,   0,   1,   0,   0,   0,   0,   1,   0, 302,   0,   0,\n",
       "          1,   1,   5,   0,   0,   0,   0,   0,   0,   0],\n",
       "       [  1,   2,   0,   0,   0,   0,   1,   0,   0,   0,   0, 188,  12,\n",
       "          0,   0,   0,   1,   0,   1,   4,   0,   0,   0],\n",
       "       [  5,   5,   4,   2,   0,   0,   0,   1,   1,   0,   2,   5, 428,\n",
       "          9,   1,   0,   0,   1,   2,  17,   1,   0,   1],\n",
       "       [  1,   1,   1,  10,   0,   0,   0,   1,   2,   0,  16,   0,   2,\n",
       "        213,   3,   8,   0,   2,   1,   1,   0,   0,   0],\n",
       "       [  0,   0,   0,   2,   0,   0,   0,   0,   1,   0,  23,   0,   0,\n",
       "         12, 252,   0,   0,   3,   0,   0,   0,   0,   0],\n",
       "       [  0,   0,   9,   1,   0,   0,   0,   0,   0,   0,  32,   0,   1,\n",
       "         14,   0, 448,   0,   0,   0,   0,   0,   0,   0],\n",
       "       [  4,   0,   3,   0,   1,   6,   0,   2,  10,   0,   1,   0,   0,\n",
       "          1,   0,   0, 320,   0,   8,   1,   1,   2,   0],\n",
       "       [  7,   0,   0,   5,   0,   0,   0,   0,   0,   0,   1,   0,   0,\n",
       "          6,   5,   0,   0, 329,   0,   0,   0,   0,   0],\n",
       "       [  2,   1,   4,   3,   0,   0,   2,   2,   4,   0,   1,   4,   6,\n",
       "          0,   0,   0,   0,   0, 129,  21,   5,   5,   3],\n",
       "       [  2,   1,   2,   2,   0,   0,   0,   3,   6,   4,   1,   5,  30,\n",
       "          1,   0,   0,   0,   0,  20, 251,   1,   0,   2],\n",
       "       [  4,   0,   2,   0,   0,   0,   0,   0,  10,   0,   0,   1,   0,\n",
       "          0,   0,   0,   0,   0,   9,   6, 149,   0,   2],\n",
       "       [  0,   3,   3,   0,   0,   0,   0,   0,   2,   1,   0,   0,   0,\n",
       "          0,   0,   2,   0,   0,   9,   1,   3, 251,   5],\n",
       "       [  0,   0,  37,   0,   0,   0,   0,   0,   0,   1,   0,   0,   0,\n",
       "          1,   0,   0,   1,   0,   1,   0,   4,  10, 354]], dtype=int64)"
      ]
     },
     "execution_count": 38,
     "metadata": {},
     "output_type": "execute_result"
    }
   ],
   "source": [
    "cm = confusion_matrix(Y_true,predicted_categories)\n",
    "cm"
   ]
  },
  {
   "cell_type": "code",
   "execution_count": 39,
   "id": "d8379f10",
   "metadata": {},
   "outputs": [
    {
     "data": {
      "image/png": "[encoded data removed]",
      "text/plain": [
       "<Figure size 1500x1500 with 2 Axes>"
      ]
     },
     "metadata": {},
     "output_type": "display_data"
    }
   ],
   "source": [
    "plt.figure(figsize=(15,15))\n",
    "sns.heatmap(cm,annot=True,annot_kws={'size':7})\n",
    "plt.xlabel(\"Predicted Class\",fontsize=20)\n",
    "plt.ylabel(\"Actual Class\",fontsize=20)\n",
    "plt.title(\"Confusion Matrix\",fontsize=25)\n",
    "plt.show()"
   ]
  },
  {
   "cell_type": "code",
   "execution_count": null,
   "id": "13f91377",
   "metadata": {},
   "outputs": [],
   "source": []
  },
  {
   "cell_type": "code",
   "execution_count": null,
   "id": "a5c410cc",
   "metadata": {},
   "outputs": [],
   "source": []
  },
  {
   "cell_type": "code",
   "execution_count": null,
   "id": "ce90e870",
   "metadata": {},
   "outputs": [],
   "source": []
  },
  {
   "cell_type": "code",
   "execution_count": null,
   "id": "ff51031f",
   "metadata": {},
   "outputs": [],
   "source": []
  }
 ],
 "metadata": {
  "kernelspec": {
   "display_name": "myenv",
   "language": "python",
   "name": "python3"
  },
  "language_info": {
   "codemirror_mode": {
    "name": "ipython",
    "version": 3
   },
   "file_extension": ".py",
   "mimetype": "text/x-python",
   "name": "python",
   "nbconvert_exporter": "python",
   "pygments_lexer": "ipython3",
   "version": "3.12.2"
  }
 },
 "nbformat": 4,
 "nbformat_minor": 5
}
